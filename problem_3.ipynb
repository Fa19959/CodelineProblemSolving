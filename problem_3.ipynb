{
 "cells": [
  {
   "cell_type": "code",
   "execution_count": 1,
   "id": "8c08dfec",
   "metadata": {},
   "outputs": [
    {
     "name": "stdout",
     "output_type": "stream",
     "text": [
      "\n",
      "Menu:\n",
      "1. Display a rigth-angle triangle of ones\n",
      "2. Display a palindromic triangle\n",
      "3. help\n",
      "4. exit\n",
      "Enter your choice: 1\n",
      "Enter the number of lines: 4\n",
      "1 \n",
      "1 1 \n",
      "1 1 1 \n",
      "1 1 1 1 \n",
      "\n",
      "Menu:\n",
      "1. Display a rigth-angle triangle of ones\n",
      "2. Display a palindromic triangle\n",
      "3. help\n",
      "4. exit\n",
      "Enter your choice: 2\n",
      "Enter the number of lines: 5\n",
      "     1\n",
      "    111\n",
      "   11111\n",
      "  1111111\n",
      " 111111111\n",
      "\n",
      "Menu:\n",
      "1. Display a rigth-angle triangle of ones\n",
      "2. Display a palindromic triangle\n",
      "3. help\n",
      "4. exit\n",
      "Enter your choice: 3\n",
      "\n",
      "Help:\n",
      "A palindromic triangle is a triangle array of numbers where each row forms a palindrome.\n",
      "the first few lines of a palindromic triangle are: \n",
      "     1\n",
      "    111\n",
      "   11111\n",
      "  1111111\n",
      " 111111111\n",
      "you can use this pattern to draw a palindromic trianglefor any number of lines\n",
      "\n",
      "Menu:\n",
      "1. Display a rigth-angle triangle of ones\n",
      "2. Display a palindromic triangle\n",
      "3. help\n",
      "4. exit\n",
      "Enter your choice: 4\n",
      "Exiting the program\n"
     ]
    }
   ],
   "source": [
    "#problem 3\n",
    "while True:\n",
    "    print(\"\\nMenu:\")\n",
    "    print(\"1. Display a rigth-angle triangle of ones\")\n",
    "    print(\"2. Display a palindromic triangle\")\n",
    "    print(\"3. help\")\n",
    "    print(\"4. exit\")\n",
    "    choice = input(\"Enter your choice: \")\n",
    "    if choice==\"1\":\n",
    "        num = int(input(\"Enter the number of lines: \"))\n",
    "        for i in range(num):\n",
    "            print(\"1 \" * (i+1))\n",
    "    elif choice==\"2\":\n",
    "        num = int(input(\"Enter the number of lines: \"))\n",
    "        for i in range(num):\n",
    "            print(\" \" * (num-i) + \"1\" + \"11\" * i)\n",
    "    elif choice==\"3\":\n",
    "        print(\"\\nHelp:\")\n",
    "        print(\"A palindromic triangle is a triangle array of numbers where each row forms a palindrome.\")\n",
    "        print(\"the first few lines of a palindromic triangle are: \")\n",
    "        for i in range(num):\n",
    "            print(\" \" * (num-i) + \"1\" + \"11\" * i)\n",
    "        print(\"you can use this pattern to draw a palindromic trianglefor any number of lines\")\n",
    "    elif choice==\"4\":\n",
    "        print(\"Exiting the program\")\n",
    "        break\n",
    "    else:\n",
    "        print(\"this choice is not available, try again!\")"
   ]
  },
  {
   "cell_type": "code",
   "execution_count": null,
   "id": "74846136",
   "metadata": {},
   "outputs": [],
   "source": []
  }
 ],
 "metadata": {
  "kernelspec": {
   "display_name": "Python 3 (ipykernel)",
   "language": "python",
   "name": "python3"
  },
  "language_info": {
   "codemirror_mode": {
    "name": "ipython",
    "version": 3
   },
   "file_extension": ".py",
   "mimetype": "text/x-python",
   "name": "python",
   "nbconvert_exporter": "python",
   "pygments_lexer": "ipython3",
   "version": "3.11.4"
  }
 },
 "nbformat": 4,
 "nbformat_minor": 5
}
