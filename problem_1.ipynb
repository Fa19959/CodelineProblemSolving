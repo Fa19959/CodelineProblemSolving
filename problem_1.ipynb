{
 "cells": [
  {
   "cell_type": "code",
   "execution_count": 11,
   "id": "d4148a8b",
   "metadata": {},
   "outputs": [
    {
     "name": "stdout",
     "output_type": "stream",
     "text": [
      "Username:john_doe\n",
      "Password: Passw0rd!\n",
      "Email: john.doe@example.com\n",
      "Username is valid\n",
      "Password is valid\n",
      "Email is valid\n"
     ]
    }
   ],
   "source": [
    "#problem 1:\n",
    "def login():\n",
    "    username=input(\"Username:\" )\n",
    "    password=input(\"Password: \" )\n",
    "    email=input(\"Email: \" )\n",
    "\n",
    "#username validation:\n",
    "    if not username or len(username)>50:\n",
    "        print(\"Username is invalid\")\n",
    "    else:\n",
    "        print(\"Username is valid\")\n",
    "#pasword validation:\n",
    "    if len(password)<8 or not (r'[!@#$%^&*(),.|<>]',password) or not (r'[A-Z]',password) or not (r'[a-z]',password) or not (r'[0-9]',password):\n",
    "        print(\"Password is invalid\")\n",
    "    else:\n",
    "        print(\"Password is valid\")\n",
    "#email validation\n",
    "    if (r'^[\\w\\.-]+@[\\w\\.-]+\\.\\w+$', email):\n",
    "        print(\"Email is valid\")\n",
    "    else:\n",
    "        print(\"Email is invalid\")\n",
    "login()"
   ]
  }
 ],
 "metadata": {
  "kernelspec": {
   "display_name": "Python 3 (ipykernel)",
   "language": "python",
   "name": "python3"
  },
  "language_info": {
   "codemirror_mode": {
    "name": "ipython",
    "version": 3
   },
   "file_extension": ".py",
   "mimetype": "text/x-python",
   "name": "python",
   "nbconvert_exporter": "python",
   "pygments_lexer": "ipython3",
   "version": "3.11.4"
  }
 },
 "nbformat": 4,
 "nbformat_minor": 5
}
