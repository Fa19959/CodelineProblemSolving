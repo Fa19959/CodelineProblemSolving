{
 "cells": [
  {
   "cell_type": "code",
   "execution_count": 1,
   "id": "05de2caa",
   "metadata": {},
   "outputs": [
    {
     "name": "stdout",
     "output_type": "stream",
     "text": [
      "Input: 5\n",
      "Output: 101\n"
     ]
    }
   ],
   "source": [
    "#problem 2\n",
    "from decimal import Decimal\n",
    "Input = Decimal(input(\"Input: \"))\n",
    "def convert_num(Input):\n",
    "    if Input == 0:\n",
    "        return \"0\"\n",
    "    binary = \"\"\n",
    "    while Input>0:\n",
    "        binary = str(Input % 2)+binary\n",
    "        Input //=2\n",
    "    return binary\n",
    "print(\"Output:\",convert_num(Input))"
   ]
  },
  {
   "cell_type": "code",
   "execution_count": null,
   "id": "b3db4316",
   "metadata": {},
   "outputs": [],
   "source": []
  }
 ],
 "metadata": {
  "kernelspec": {
   "display_name": "Python 3 (ipykernel)",
   "language": "python",
   "name": "python3"
  },
  "language_info": {
   "codemirror_mode": {
    "name": "ipython",
    "version": 3
   },
   "file_extension": ".py",
   "mimetype": "text/x-python",
   "name": "python",
   "nbconvert_exporter": "python",
   "pygments_lexer": "ipython3",
   "version": "3.11.4"
  }
 },
 "nbformat": 4,
 "nbformat_minor": 5
}
