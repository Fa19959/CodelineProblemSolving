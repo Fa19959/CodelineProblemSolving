{
 "cells": [
  {
   "cell_type": "code",
   "execution_count": 1,
   "id": "2216ee44",
   "metadata": {},
   "outputs": [
    {
     "name": "stdout",
     "output_type": "stream",
     "text": [
      "enter the range of your list: 10\n",
      "Enter the list of integers: 1\n",
      "Enter the list of integers: 2\n",
      "Enter the list of integers: 3\n",
      "Enter the list of integers: 4\n",
      "Enter the list of integers: 5\n",
      "Enter the list of integers: 6\n",
      "Enter the list of integers: 7\n",
      "Enter the list of integers: 8\n",
      "Enter the list of integers: 9\n",
      "Enter the list of integers: 10\n",
      "[1, 2, 3, 4, 5, 6, 7, 8, 9, 10]\n",
      "List of squares of even numbers:  [4, 16, 36, 64, 100]\n",
      "Enter start index: 2\n",
      "Enter end index: 5\n",
      "sublist:  [3, 4, 5]\n"
     ]
    }
   ],
   "source": [
    "#problem 4\n",
    "List=[]\n",
    "even=[]\n",
    "range1=int(input(\"enter the range of your list: \"))\n",
    "for i in range(range1):\n",
    "    num = int(input(\"Enter the list of integers: \"))\n",
    "    List.append(num)\n",
    "    if num % 2 == 0:\n",
    "        even.append(num**2)\n",
    "print(List)\n",
    "print(\"List of squares of even numbers: \",even)\n",
    "start_index = int(input(\"Enter start index: \"))\n",
    "end_index = int(input(\"Enter end index: \"))\n",
    "print(\"sublist: \",List[start_index:end_index])"
   ]
  },
  {
   "cell_type": "code",
   "execution_count": null,
   "id": "0bec8203",
   "metadata": {},
   "outputs": [],
   "source": []
  }
 ],
 "metadata": {
  "kernelspec": {
   "display_name": "Python 3 (ipykernel)",
   "language": "python",
   "name": "python3"
  },
  "language_info": {
   "codemirror_mode": {
    "name": "ipython",
    "version": 3
   },
   "file_extension": ".py",
   "mimetype": "text/x-python",
   "name": "python",
   "nbconvert_exporter": "python",
   "pygments_lexer": "ipython3",
   "version": "3.11.4"
  }
 },
 "nbformat": 4,
 "nbformat_minor": 5
}
